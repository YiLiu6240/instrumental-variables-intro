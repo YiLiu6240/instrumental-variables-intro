{
 "cells": [
  {
   "cell_type": "markdown",
   "metadata": {
    "slideshow": {
     "slide_type": "slide"
    }
   },
   "source": [
    "# Instrumental variables estimation\n",
    "\n",
    "Bioinformatics reading group\n",
    "\n",
    "Yi Liu, 07 Febuary 2020"
   ]
  },
  {
   "cell_type": "markdown",
   "metadata": {
    "slideshow": {
     "slide_type": "subslide"
    }
   },
   "source": [
    "Outline\n",
    "\n",
    "- Estimation of linear models under omitted variable bias: IV, 2SLS\n",
    "- Randomised experiments: LATE and treatment heterogeneity\n",
    "- Tests\n",
    "\n",
    "Note: notations roughly follow conventions in Wooldridge. Only linear models, no GMM."
   ]
  },
  {
   "cell_type": "markdown",
   "metadata": {
    "slideshow": {
     "slide_type": "slide"
    }
   },
   "source": [
    "# OLS, Omitted Variable Bias, and IV"
   ]
  },
  {
   "cell_type": "markdown",
   "metadata": {
    "slideshow": {
     "slide_type": "subslide"
    }
   },
   "source": [
    "## OLS and BLUE"
   ]
  },
  {
   "cell_type": "markdown",
   "metadata": {
    "slideshow": {
     "slide_type": "fragment"
    }
   },
   "source": [
    "OLS estimator\n",
    "\n",
    "$$y = \\beta_0 + \\beta_1 x_1 + \\beta_2 x_2 + \\beta_3 x_3 + ... + \\beta_k x_k + u$$\n",
    "\n",
    "$$y = \\mathbf{X}\\mathbf{\\beta} + u$$\n",
    "\n",
    "$$\\mathbf{\\hat{\\beta}} = (\\mathbf{X}'\\mathbf{X})^{-1})\\mathbf{X}'\\mathbf{y}$$"
   ]
  },
  {
   "cell_type": "markdown",
   "metadata": {
    "slideshow": {
     "slide_type": "subslide"
    }
   },
   "source": [
    "OLS assumptions\n",
    "\n",
    "1. Linearity in params: $y = \\beta_0 + \\beta_1 x_1 + \\beta_2 x_2 + ... + \\beta_k x_k + u$\n",
    "2. Random sampling\n",
    "3. No perfect collinearity\n",
    "4. Zero conditional mean: $E(u|x_1, x_2, ..., x_k) = 0$\n",
    "5. Homoskedasticity: $Var(u|x_1, ..., x_k) = \\sigma^2$"
   ]
  },
  {
   "cell_type": "markdown",
   "metadata": {
    "slideshow": {
     "slide_type": "fragment"
    }
   },
   "source": [
    "Under Gauss-Markov theorem, OLS method is the best linear unbiased estimator (BLUE)\n",
    "\n",
    "- Best: having smallest variance\n",
    "- Unbiased: $E(\\hat{\\beta_j}) = \\beta_j$"
   ]
  },
  {
   "cell_type": "markdown",
   "metadata": {
    "jupyter": {
     "source_hidden": true
    },
    "slideshow": {
     "slide_type": "subslide"
    }
   },
   "source": [
    "**Always BLUE**?\n",
    "\n",
    "![](https://i.redd.it/yuachr4ncj341.gif)"
   ]
  },
  {
   "cell_type": "markdown",
   "metadata": {
    "slideshow": {
     "slide_type": "subslide"
    }
   },
   "source": [
    "## Omitted variable bias\n",
    "\n",
    "![](assets/omitted-variable-bias.png)"
   ]
  },
  {
   "cell_type": "markdown",
   "metadata": {
    "slideshow": {
     "slide_type": "subslide"
    }
   },
   "source": [
    "$$log(wage) = \\beta_0 + \\beta_1 educ + \\beta_2 abil + e$$\n",
    "\n",
    "$$log(wage) = \\beta_0 + \\beta_1 educ + u$$\n",
    "\n",
    "$$Cov(educ, u) \\neq 0$$\n",
    "\n",
    "OLS $\\hat{\\beta_1}$ is biased and incosistent."
   ]
  },
  {
   "cell_type": "markdown",
   "metadata": {
    "slideshow": {
     "slide_type": "subslide"
    }
   },
   "source": [
    "## IV\n",
    "\n",
    "![](assets/instrumental-variables.png)\n",
    "\n",
    "- Instrument exogeneity: $Cov(z, u) = 0$\n",
    "- Instrument relevance: $Cov(z, x) \\neq 0$"
   ]
  },
  {
   "cell_type": "markdown",
   "metadata": {
    "slideshow": {
     "slide_type": "subslide"
    }
   },
   "source": [
    "$$\\beta_1 = \\frac{Cov(z, y)}{Cov(z, x)}$$\n",
    "\n",
    "$$\\hat{\\beta_1} = \\frac{\\Sigma(z_i - \\bar{z})(y_i - \\bar{y})}{\\Sigma(x_i - \\bar{x})(x_i - \\bar{x})}$$\n",
    "\n",
    "Asymptotic (large sample) consistency: $plim(\\hat{\\beta_1}) = \\beta_1$ -- in small samples, IV / 2SLS are biased."
   ]
  },
  {
   "cell_type": "markdown",
   "metadata": {
    "slideshow": {
     "slide_type": "subslide"
    }
   },
   "source": [
    "## Two stage least squares (2SLS)"
   ]
  },
  {
   "cell_type": "markdown",
   "metadata": {
    "slideshow": {
     "slide_type": "fragment"
    }
   },
   "source": [
    "When multiple instruments are available ($z_2$, $z_3$), and 2SLS assumptions (Wooldridge) hold, their linear combination is the best IV, i.e. having smaller variance. Adding instruments improves the asymptotic efficiency of the 2SLS estimator.\n",
    "\n",
    "$$y_1 = \\beta_0 + \\beta_1 y_2 + \\beta_2 z_1 + u_1$$\n",
    "\n",
    "$$y^{*}_2 = \\pi_0 + \\pi_1 z_1 + \\pi_2 z_2 + \\pi_3 z_3$$"
   ]
  },
  {
   "cell_type": "markdown",
   "metadata": {
    "slideshow": {
     "slide_type": "subslide"
    }
   },
   "source": [
    "Stage 1 OLS: $$\\hat{y}_2 = \\hat{\\pi}_0 + \\hat{\\pi}_1 z_1 + \\hat{\\pi}_2 z_2 + \\hat{\\pi}_3 z_3$$\n",
    "\n",
    "Stage 2 OLS(^): $$y_1 = \\beta_0 + \\beta_1 y^{*}_2 + \\beta_2 z_1 + u_1 + \\beta_1 v_2, y_2 = y^{*}_2 + v_2, E(u_1 + \\beta_1 v_2| y^{*}_2, z_1)$$"
   ]
  },
  {
   "cell_type": "markdown",
   "metadata": {
    "slideshow": {
     "slide_type": "fragment"
    }
   },
   "source": [
    "[^] 2SLS is just a metaphor. You should not do it in a naive way. *why?*"
   ]
  },
  {
   "cell_type": "markdown",
   "metadata": {
    "slideshow": {
     "slide_type": "subslide"
    }
   },
   "source": [
    "### Issues with 2SLS manually\n",
    "\n",
    "1. SEs of coef estimates for manual stage 2 OLS are not correct.  \n",
    "Correct residual variance is $Var(u_1)$, not $Var(u_1 + \\beta_1 v_2)$.\n",
    "\n",
    "2. People forget to put same covariates in both stages.\n",
    "\n",
    "3. \"Forbidden regressions\" involving non-continuous / non-linear covariates (check Angrist and Pischke)."
   ]
  },
  {
   "cell_type": "markdown",
   "metadata": {
    "slideshow": {
     "slide_type": "slide"
    }
   },
   "source": [
    "# LATE"
   ]
  },
  {
   "cell_type": "markdown",
   "metadata": {
    "slideshow": {
     "slide_type": "subslide"
    }
   },
   "source": [
    "![](https://pics.me.me/setup-the-wizard-wil-now-install-your-software-next-cancel-7994288.png)"
   ]
  },
  {
   "cell_type": "markdown",
   "metadata": {
    "slideshow": {
     "slide_type": "subslide"
    }
   },
   "source": [
    "# Local average treatment effect (LATE)\n",
    "\n",
    "Treatment effect of the compilers subgroup.\n",
    "\n",
    "- $A_i$: (binary) treatment status for $i$\n",
    "  - $A_i(1)$: treated\n",
    "  - $A_i(0)$: non-treated / controlled\n",
    "- $Z_i$: (binary) IV for $A_i$, randomised treatment assignment\n",
    "- $Y_i(a, z)$: outcome for $i$, $A_i = a$, $Z_i = z$"
   ]
  },
  {
   "cell_type": "markdown",
   "metadata": {
    "slideshow": {
     "slide_type": "subslide"
    }
   },
   "source": [
    "Assumptions:\n",
    "\n",
    "- Independence, randomised IV: $[\\{Y_i(a, z), \\forall a, z\\}, A_i (1), A_i (0)] \\perp Z_i$\n",
    "- Exclusion restriction: $Y_i (a, 1) = Y_i(a, 0) \\equiv Y_{a_i} \\; \\forall a = 0, 1$\n",
    "- First stage: $E[A_i (1) - A_i (0)] \\neq 0$\n",
    "- **Monotonicity**, i.e. no *defiers*: $A_i(1) - A_i(0) \\geq 0$"
   ]
  },
  {
   "cell_type": "markdown",
   "metadata": {
    "slideshow": {
     "slide_type": "subslide"
    }
   },
   "source": [
    "No defiers\n",
    "\n",
    "| Name | $A_i$($Z_i$=1) | $A_i$($Z_i$=0) |\n",
    "| --- | --- | --- |\n",
    "| Always takers | 1 | 1 |\n",
    "| Never takers | 0 | 0 |\n",
    "| Compliers | 1 | 0 |\n",
    "| Defiers | 0 | 1 |\n"
   ]
  },
  {
   "cell_type": "markdown",
   "metadata": {
    "slideshow": {
     "slide_type": "fragment"
    }
   },
   "source": [
    "Under those assumptions, IV estimate is *precisely* LATE\n",
    "\n",
    "$$\\frac{E[Y_i|Z_i = 1] - E[Y_i|Z_i = 0]}{E[A_i|Z_i = 1] - E[A_i|Z_i = 0]} = E[Y_i(1) - Y_i(0)|A_i(1) > A_i(0)]$$"
   ]
  },
  {
   "cell_type": "markdown",
   "metadata": {
    "slideshow": {
     "slide_type": "subslide"
    }
   },
   "source": [
    "LATE under 2SLS (Angrist & Pischke)\n",
    "\n",
    "Multiple instruments each yields its own LATE. And the 2SLS estimate is the weighted sum of components LATEs, weighted by the strength of prediction for each of the first stage effects."
   ]
  },
  {
   "cell_type": "markdown",
   "metadata": {
    "slideshow": {
     "slide_type": "slide"
    }
   },
   "source": [
    "# Tests"
   ]
  },
  {
   "cell_type": "markdown",
   "metadata": {
    "slideshow": {
     "slide_type": "subslide"
    }
   },
   "source": [
    "## Test for weak IVs\n",
    "\n",
    "Intuition\n",
    "\n",
    "- $F$-test of the first stage."
   ]
  },
  {
   "cell_type": "markdown",
   "metadata": {
    "slideshow": {
     "slide_type": "subslide"
    }
   },
   "source": [
    "## Test for endogeneity of explanatory variables\n",
    "\n",
    "Intution\n",
    "\n",
    "- When the explanatory variable is exogenous, it is IV of itself, and 2SLS is equivalent to OLS.\n",
    "- If coef estimates from OLS and 2SLS differ statistically significantly, the explanatory variable of interests is endogenous.\n",
    "- Hausman test"
   ]
  },
  {
   "cell_type": "markdown",
   "metadata": {
    "slideshow": {
     "slide_type": "subslide"
    }
   },
   "source": [
    "## Test for exclusion restrictions\n",
    "\n",
    "When there is only one instrument, exclusion restriction can not be tested, but rely on domain knowledge.\n",
    "\n",
    "We need multiple instruments and the *overidentification* of the model (more relevant IVs than endogenous variables) to be able to test the exclusion restrictions."
   ]
  },
  {
   "cell_type": "markdown",
   "metadata": {
    "slideshow": {
     "slide_type": "subslide"
    }
   },
   "source": [
    "- Outcome: $y_1$\n",
    "- Endogenous explanatory variable: $y_2$\n",
    "- Exogenous explanatory variables: $z_1$, $z_2$\n",
    "- IVs for $y_2$: $z_3$, $z_4$\n",
    "\n",
    "Intuition\n",
    "- $\\check{\\beta_1}$: IV estimate of $\\beta_1$ using $z_3$.\n",
    "- $\\tilde{\\beta_1}$: IV estimate of $\\beta_1$ using $z_4$.\n",
    "- If $\\check{\\beta_1}$ and $\\tilde{\\beta_1}$ are statistically significantly different, then either $z_3$, or $z_4$, or *both* fail the exclusion restriction.\n",
    "- In real world this is done using residuals of 2SLS (Sargan test)."
   ]
  },
  {
   "cell_type": "markdown",
   "metadata": {
    "slideshow": {
     "slide_type": "slide"
    }
   },
   "source": [
    "# References\n",
    "\n",
    "- Introductory Econometrics, Jeffery Wooldridge\n",
    "- Mostly harmless econometrics, Joshua Angrist and Jorn-Steffen Pischke\n",
    "- Various slides by Christopher Baum\n",
    "  - https://fmwww.bc.edu/GStat/docs/StataIV.pdf\n",
    "  - http://www.ncer.edu.au/resources/documents/IVandGMM.pdf\n",
    "- Applied Econometricsd with R, Christian Kleiber and Achim Zeileis\n",
    "  - https://cran.r-project.org/web/packages/AER/"
   ]
  }
 ],
 "metadata": {
  "kernelspec": {
   "display_name": "Python 3",
   "language": "python",
   "name": "python3"
  },
  "language_info": {
   "codemirror_mode": {
    "name": "ipython",
    "version": 3
   },
   "file_extension": ".py",
   "mimetype": "text/x-python",
   "name": "python",
   "nbconvert_exporter": "python",
   "pygments_lexer": "ipython3",
   "version": "3.7.5"
  }
 },
 "nbformat": 4,
 "nbformat_minor": 4
}
